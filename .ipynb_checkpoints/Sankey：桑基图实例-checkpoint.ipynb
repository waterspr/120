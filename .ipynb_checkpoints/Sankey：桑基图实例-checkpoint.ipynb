{
 "cells": [
  {
   "cell_type": "markdown",
   "metadata": {},
   "source": [
    "## Sankey：桑基图实例"
   ]
  },
  {
   "cell_type": "code",
   "execution_count": 25,
   "metadata": {},
   "outputs": [],
   "source": [
    "import json\n",
    "import os\n",
    "import pandas as pd\n",
    "import numpy as np\n",
    "from pyecharts import options as opts\n",
    "from pyecharts.charts import Page, Sankey"
   ]
  },
  {
   "cell_type": "code",
   "execution_count": 26,
   "metadata": {},
   "outputs": [],
   "source": [
    "#读出本地文件\n",
    "san = pd.read_excel('F:\\\\素材库\\\\数据\\\\消费构成.xlsx')"
   ]
  },
  {
   "cell_type": "code",
   "execution_count": 27,
   "metadata": {},
   "outputs": [
    {
     "data": {
      "text/html": [
       "<div>\n",
       "<style scoped>\n",
       "    .dataframe tbody tr th:only-of-type {\n",
       "        vertical-align: middle;\n",
       "    }\n",
       "\n",
       "    .dataframe tbody tr th {\n",
       "        vertical-align: top;\n",
       "    }\n",
       "\n",
       "    .dataframe thead th {\n",
       "        text-align: right;\n",
       "    }\n",
       "</style>\n",
       "<table border=\"1\" class=\"dataframe\">\n",
       "  <thead>\n",
       "    <tr style=\"text-align: right;\">\n",
       "      <th></th>\n",
       "      <th>资源</th>\n",
       "      <th>流向</th>\n",
       "      <th>数值</th>\n",
       "    </tr>\n",
       "  </thead>\n",
       "  <tbody>\n",
       "    <tr>\n",
       "      <td>0</td>\n",
       "      <td>衣服</td>\n",
       "      <td>上衣</td>\n",
       "      <td>20</td>\n",
       "    </tr>\n",
       "    <tr>\n",
       "      <td>1</td>\n",
       "      <td>NaN</td>\n",
       "      <td>裤子</td>\n",
       "      <td>10</td>\n",
       "    </tr>\n",
       "    <tr>\n",
       "      <td>2</td>\n",
       "      <td>住</td>\n",
       "      <td>旅社</td>\n",
       "      <td>20</td>\n",
       "    </tr>\n",
       "    <tr>\n",
       "      <td>3</td>\n",
       "      <td>NaN</td>\n",
       "      <td>宾馆</td>\n",
       "      <td>20</td>\n",
       "    </tr>\n",
       "    <tr>\n",
       "      <td>4</td>\n",
       "      <td>购物</td>\n",
       "      <td>超市</td>\n",
       "      <td>20</td>\n",
       "    </tr>\n",
       "  </tbody>\n",
       "</table>\n",
       "</div>"
      ],
      "text/plain": [
       "   资源   流向  数值\n",
       "0   衣服  上衣  20\n",
       "1  NaN  裤子  10\n",
       "2    住  旅社  20\n",
       "3  NaN  宾馆  20\n",
       "4   购物  超市  20"
      ]
     },
     "execution_count": 27,
     "metadata": {},
     "output_type": "execute_result"
    }
   ],
   "source": [
    "san.head()"
   ]
  },
  {
   "cell_type": "code",
   "execution_count": 28,
   "metadata": {},
   "outputs": [],
   "source": [
    "# 填充空白值,向前填充\n",
    "san = san.fillna(method='ffill')"
   ]
  },
  {
   "cell_type": "code",
   "execution_count": 29,
   "metadata": {},
   "outputs": [
    {
     "data": {
      "text/html": [
       "<div>\n",
       "<style scoped>\n",
       "    .dataframe tbody tr th:only-of-type {\n",
       "        vertical-align: middle;\n",
       "    }\n",
       "\n",
       "    .dataframe tbody tr th {\n",
       "        vertical-align: top;\n",
       "    }\n",
       "\n",
       "    .dataframe thead th {\n",
       "        text-align: right;\n",
       "    }\n",
       "</style>\n",
       "<table border=\"1\" class=\"dataframe\">\n",
       "  <thead>\n",
       "    <tr style=\"text-align: right;\">\n",
       "      <th></th>\n",
       "      <th>资源</th>\n",
       "      <th>流向</th>\n",
       "      <th>数值</th>\n",
       "    </tr>\n",
       "  </thead>\n",
       "  <tbody>\n",
       "    <tr>\n",
       "      <td>0</td>\n",
       "      <td>衣服</td>\n",
       "      <td>上衣</td>\n",
       "      <td>20</td>\n",
       "    </tr>\n",
       "    <tr>\n",
       "      <td>1</td>\n",
       "      <td>衣服</td>\n",
       "      <td>裤子</td>\n",
       "      <td>10</td>\n",
       "    </tr>\n",
       "    <tr>\n",
       "      <td>2</td>\n",
       "      <td>住</td>\n",
       "      <td>旅社</td>\n",
       "      <td>20</td>\n",
       "    </tr>\n",
       "    <tr>\n",
       "      <td>3</td>\n",
       "      <td>住</td>\n",
       "      <td>宾馆</td>\n",
       "      <td>20</td>\n",
       "    </tr>\n",
       "    <tr>\n",
       "      <td>4</td>\n",
       "      <td>购物</td>\n",
       "      <td>超市</td>\n",
       "      <td>20</td>\n",
       "    </tr>\n",
       "  </tbody>\n",
       "</table>\n",
       "</div>"
      ],
      "text/plain": [
       "  资源   流向  数值\n",
       "0  衣服  上衣  20\n",
       "1  衣服  裤子  10\n",
       "2   住  旅社  20\n",
       "3   住  宾馆  20\n",
       "4  购物  超市  20"
      ]
     },
     "execution_count": 29,
     "metadata": {},
     "output_type": "execute_result"
    }
   ],
   "source": [
    "san.head()"
   ]
  },
  {
   "cell_type": "code",
   "execution_count": 30,
   "metadata": {},
   "outputs": [],
   "source": [
    "# 重设列名，为桑吉图做准备\n",
    "san.columns =[\"source\",\"target\",\"value\"]"
   ]
  },
  {
   "cell_type": "code",
   "execution_count": 31,
   "metadata": {},
   "outputs": [
    {
     "data": {
      "text/html": [
       "<div>\n",
       "<style scoped>\n",
       "    .dataframe tbody tr th:only-of-type {\n",
       "        vertical-align: middle;\n",
       "    }\n",
       "\n",
       "    .dataframe tbody tr th {\n",
       "        vertical-align: top;\n",
       "    }\n",
       "\n",
       "    .dataframe thead th {\n",
       "        text-align: right;\n",
       "    }\n",
       "</style>\n",
       "<table border=\"1\" class=\"dataframe\">\n",
       "  <thead>\n",
       "    <tr style=\"text-align: right;\">\n",
       "      <th></th>\n",
       "      <th>source</th>\n",
       "      <th>target</th>\n",
       "      <th>value</th>\n",
       "    </tr>\n",
       "  </thead>\n",
       "  <tbody>\n",
       "    <tr>\n",
       "      <td>0</td>\n",
       "      <td>衣服</td>\n",
       "      <td>上衣</td>\n",
       "      <td>20</td>\n",
       "    </tr>\n",
       "    <tr>\n",
       "      <td>1</td>\n",
       "      <td>衣服</td>\n",
       "      <td>裤子</td>\n",
       "      <td>10</td>\n",
       "    </tr>\n",
       "    <tr>\n",
       "      <td>2</td>\n",
       "      <td>住</td>\n",
       "      <td>旅社</td>\n",
       "      <td>20</td>\n",
       "    </tr>\n",
       "    <tr>\n",
       "      <td>3</td>\n",
       "      <td>住</td>\n",
       "      <td>宾馆</td>\n",
       "      <td>20</td>\n",
       "    </tr>\n",
       "    <tr>\n",
       "      <td>4</td>\n",
       "      <td>购物</td>\n",
       "      <td>超市</td>\n",
       "      <td>20</td>\n",
       "    </tr>\n",
       "  </tbody>\n",
       "</table>\n",
       "</div>"
      ],
      "text/plain": [
       "  source target  value\n",
       "0     衣服     上衣     20\n",
       "1     衣服     裤子     10\n",
       "2      住     旅社     20\n",
       "3      住     宾馆     20\n",
       "4     购物     超市     20"
      ]
     },
     "execution_count": 31,
     "metadata": {},
     "output_type": "execute_result"
    }
   ],
   "source": [
    "san.head()"
   ]
  },
  {
   "cell_type": "code",
   "execution_count": 32,
   "metadata": {},
   "outputs": [
    {
     "data": {
      "text/plain": [
       "'[{\"source\":\"衣服\",\"target\":\"上衣\",\"value\":20},{\"source\":\"衣服\",\"target\":\"裤子\",\"value\":10},{\"source\":\"住\",\"target\":\"旅社\",\"value\":20},{\"source\":\"住\",\"target\":\"宾馆\",\"value\":20},{\"source\":\"购物\",\"target\":\"超市\",\"value\":20},{\"source\":\"购物\",\"target\":\"商场\",\"value\":20},{\"source\":\"娱乐\",\"target\":\"电影\",\"value\":20},{\"source\":\"娱乐\",\"target\":\"游戏\",\"value\":20},{\"source\":\"上衣\",\"target\":\"短袖\",\"value\":10},{\"source\":\"上衣\",\"target\":\"T恤\",\"value\":10},{\"source\":\"短袖\",\"target\":\"黄短袖\",\"value\":5},{\"source\":\"短袖\",\"target\":\"绿短袖\",\"value\":5},{\"source\":\"超市\",\"target\":\"鸡蛋\",\"value\":10},{\"source\":\"超市\",\"target\":\"牛奶\",\"value\":5},{\"source\":\"超市\",\"target\":\"饼干\",\"value\":5}]'"
      ]
     },
     "execution_count": 32,
     "metadata": {},
     "output_type": "execute_result"
    }
   ],
   "source": [
    "#构造桑吉图的links ,pandas dataframe 转为json\n",
    "san.to_json(orient=\"records\",force_ascii=False)"
   ]
  },
  {
   "cell_type": "code",
   "execution_count": 47,
   "metadata": {},
   "outputs": [],
   "source": [
    "links = san.to_json(orient=\"records\",force_ascii=False)"
   ]
  },
  {
   "cell_type": "code",
   "execution_count": 50,
   "metadata": {},
   "outputs": [
    {
     "name": "stdout",
     "output_type": "stream",
     "text": [
      "[{\"source\":\"衣服\",\"target\":\"上衣\",\"value\":20},{\"source\":\"衣服\",\"target\":\"裤子\",\"value\":10},{\"source\":\"住\",\"target\":\"旅社\",\"value\":20},{\"source\":\"住\",\"target\":\"宾馆\",\"value\":20},{\"source\":\"购物\",\"target\":\"超市\",\"value\":20},{\"source\":\"购物\",\"target\":\"商场\",\"value\":20},{\"source\":\"娱乐\",\"target\":\"电影\",\"value\":20},{\"source\":\"娱乐\",\"target\":\"游戏\",\"value\":20},{\"source\":\"上衣\",\"target\":\"短袖\",\"value\":10},{\"source\":\"上衣\",\"target\":\"T恤\",\"value\":10},{\"source\":\"短袖\",\"target\":\"黄短袖\",\"value\":5},{\"source\":\"短袖\",\"target\":\"绿短袖\",\"value\":5},{\"source\":\"超市\",\"target\":\"鸡蛋\",\"value\":10},{\"source\":\"超市\",\"target\":\"牛奶\",\"value\":5},{\"source\":\"超市\",\"target\":\"饼干\",\"value\":5}]\n"
     ]
    }
   ],
   "source": [
    "print(links)"
   ]
  },
  {
   "cell_type": "code",
   "execution_count": 34,
   "metadata": {},
   "outputs": [
    {
     "data": {
      "text/html": [
       "<div>\n",
       "<style scoped>\n",
       "    .dataframe tbody tr th:only-of-type {\n",
       "        vertical-align: middle;\n",
       "    }\n",
       "\n",
       "    .dataframe tbody tr th {\n",
       "        vertical-align: top;\n",
       "    }\n",
       "\n",
       "    .dataframe thead th {\n",
       "        text-align: right;\n",
       "    }\n",
       "</style>\n",
       "<table border=\"1\" class=\"dataframe\">\n",
       "  <thead>\n",
       "    <tr style=\"text-align: right;\">\n",
       "      <th></th>\n",
       "      <th>source</th>\n",
       "      <th>target</th>\n",
       "    </tr>\n",
       "  </thead>\n",
       "  <tbody>\n",
       "    <tr>\n",
       "      <td>0</td>\n",
       "      <td>衣服</td>\n",
       "      <td>上衣</td>\n",
       "    </tr>\n",
       "    <tr>\n",
       "      <td>1</td>\n",
       "      <td>衣服</td>\n",
       "      <td>裤子</td>\n",
       "    </tr>\n",
       "    <tr>\n",
       "      <td>2</td>\n",
       "      <td>住</td>\n",
       "      <td>旅社</td>\n",
       "    </tr>\n",
       "    <tr>\n",
       "      <td>3</td>\n",
       "      <td>住</td>\n",
       "      <td>宾馆</td>\n",
       "    </tr>\n",
       "    <tr>\n",
       "      <td>4</td>\n",
       "      <td>购物</td>\n",
       "      <td>超市</td>\n",
       "    </tr>\n",
       "    <tr>\n",
       "      <td>5</td>\n",
       "      <td>购物</td>\n",
       "      <td>商场</td>\n",
       "    </tr>\n",
       "    <tr>\n",
       "      <td>6</td>\n",
       "      <td>娱乐</td>\n",
       "      <td>电影</td>\n",
       "    </tr>\n",
       "    <tr>\n",
       "      <td>7</td>\n",
       "      <td>娱乐</td>\n",
       "      <td>游戏</td>\n",
       "    </tr>\n",
       "    <tr>\n",
       "      <td>8</td>\n",
       "      <td>上衣</td>\n",
       "      <td>短袖</td>\n",
       "    </tr>\n",
       "    <tr>\n",
       "      <td>9</td>\n",
       "      <td>上衣</td>\n",
       "      <td>T恤</td>\n",
       "    </tr>\n",
       "    <tr>\n",
       "      <td>10</td>\n",
       "      <td>短袖</td>\n",
       "      <td>黄短袖</td>\n",
       "    </tr>\n",
       "    <tr>\n",
       "      <td>11</td>\n",
       "      <td>短袖</td>\n",
       "      <td>绿短袖</td>\n",
       "    </tr>\n",
       "    <tr>\n",
       "      <td>12</td>\n",
       "      <td>超市</td>\n",
       "      <td>鸡蛋</td>\n",
       "    </tr>\n",
       "    <tr>\n",
       "      <td>13</td>\n",
       "      <td>超市</td>\n",
       "      <td>牛奶</td>\n",
       "    </tr>\n",
       "    <tr>\n",
       "      <td>14</td>\n",
       "      <td>超市</td>\n",
       "      <td>饼干</td>\n",
       "    </tr>\n",
       "  </tbody>\n",
       "</table>\n",
       "</div>"
      ],
      "text/plain": [
       "   source target\n",
       "0      衣服     上衣\n",
       "1      衣服     裤子\n",
       "2       住     旅社\n",
       "3       住     宾馆\n",
       "4      购物     超市\n",
       "5      购物     商场\n",
       "6      娱乐     电影\n",
       "7      娱乐     游戏\n",
       "8      上衣     短袖\n",
       "9      上衣     T恤\n",
       "10     短袖    黄短袖\n",
       "11     短袖    绿短袖\n",
       "12     超市     鸡蛋\n",
       "13     超市     牛奶\n",
       "14     超市     饼干"
      ]
     },
     "execution_count": 34,
     "metadata": {},
     "output_type": "execute_result"
    }
   ],
   "source": [
    "# 统计category类目的个数\n",
    "san.loc[:, ['source', 'target']]  #取出'source', 'target'前两列"
   ]
  },
  {
   "cell_type": "code",
   "execution_count": 35,
   "metadata": {},
   "outputs": [
    {
     "data": {
      "text/plain": [
       "array(['衣服', '住', '购物', '娱乐', '上衣', '短袖', '超市'], dtype=object)"
      ]
     },
     "execution_count": 35,
     "metadata": {},
     "output_type": "execute_result"
    }
   ],
   "source": [
    "san['source'].unique()"
   ]
  },
  {
   "cell_type": "code",
   "execution_count": 36,
   "metadata": {},
   "outputs": [],
   "source": [
    "a = san['source'].unique()\n",
    "b =san['target'].unique()"
   ]
  },
  {
   "cell_type": "markdown",
   "metadata": {},
   "source": [
    "###  1, array转为list要用tolist()方法"
   ]
  },
  {
   "cell_type": "code",
   "execution_count": 37,
   "metadata": {},
   "outputs": [
    {
     "data": {
      "text/plain": [
       "['衣服', '住', '购物', '娱乐', '上衣', '短袖', '超市']"
      ]
     },
     "execution_count": 37,
     "metadata": {},
     "output_type": "execute_result"
    }
   ],
   "source": [
    "#  1, array转为list要用tolist()方法\n",
    "a.tolist()"
   ]
  },
  {
   "cell_type": "markdown",
   "metadata": {},
   "source": [
    "###  2, array转为list要用list()方法"
   ]
  },
  {
   "cell_type": "code",
   "execution_count": 38,
   "metadata": {},
   "outputs": [
    {
     "data": {
      "text/plain": [
       "['上衣',\n",
       " '裤子',\n",
       " '旅社',\n",
       " '宾馆',\n",
       " '超市',\n",
       " '商场',\n",
       " '电影',\n",
       " '游戏',\n",
       " '短袖',\n",
       " 'T恤',\n",
       " '黄短袖',\n",
       " '绿短袖',\n",
       " '鸡蛋',\n",
       " '牛奶',\n",
       " '饼干']"
      ]
     },
     "execution_count": 38,
     "metadata": {},
     "output_type": "execute_result"
    }
   ],
   "source": [
    "list(b)"
   ]
  },
  {
   "cell_type": "code",
   "execution_count": 39,
   "metadata": {},
   "outputs": [
    {
     "data": {
      "text/plain": [
       "['衣服',\n",
       " '住',\n",
       " '购物',\n",
       " '娱乐',\n",
       " '上衣',\n",
       " '短袖',\n",
       " '超市',\n",
       " '上衣',\n",
       " '裤子',\n",
       " '旅社',\n",
       " '宾馆',\n",
       " '超市',\n",
       " '商场',\n",
       " '电影',\n",
       " '游戏',\n",
       " '短袖',\n",
       " 'T恤',\n",
       " '黄短袖',\n",
       " '绿短袖',\n",
       " '鸡蛋',\n",
       " '牛奶',\n",
       " '饼干']"
      ]
     },
     "execution_count": 39,
     "metadata": {},
     "output_type": "execute_result"
    }
   ],
   "source": [
    "d = list(a)+list(b)\n",
    "d"
   ]
  },
  {
   "cell_type": "code",
   "execution_count": 40,
   "metadata": {},
   "outputs": [
    {
     "data": {
      "text/plain": [
       "{'T恤',\n",
       " '上衣',\n",
       " '住',\n",
       " '商场',\n",
       " '娱乐',\n",
       " '宾馆',\n",
       " '旅社',\n",
       " '游戏',\n",
       " '牛奶',\n",
       " '电影',\n",
       " '短袖',\n",
       " '绿短袖',\n",
       " '衣服',\n",
       " '裤子',\n",
       " '购物',\n",
       " '超市',\n",
       " '饼干',\n",
       " '鸡蛋',\n",
       " '黄短袖'}"
      ]
     },
     "execution_count": 40,
     "metadata": {},
     "output_type": "execute_result"
    }
   ],
   "source": [
    "# 使用set集合去重\n",
    "set(d)"
   ]
  },
  {
   "cell_type": "code",
   "execution_count": 41,
   "metadata": {},
   "outputs": [
    {
     "data": {
      "text/plain": [
       "['绿短袖',\n",
       " '牛奶',\n",
       " 'T恤',\n",
       " '上衣',\n",
       " '游戏',\n",
       " '旅社',\n",
       " '裤子',\n",
       " '娱乐',\n",
       " '住',\n",
       " '超市',\n",
       " '购物',\n",
       " '衣服',\n",
       " '电影',\n",
       " '商场',\n",
       " '短袖',\n",
       " '鸡蛋',\n",
       " '黄短袖',\n",
       " '宾馆',\n",
       " '饼干']"
      ]
     },
     "execution_count": 41,
     "metadata": {},
     "output_type": "execute_result"
    }
   ],
   "source": [
    "cat = list(set(d))\n",
    "cat"
   ]
  },
  {
   "cell_type": "code",
   "execution_count": 42,
   "metadata": {},
   "outputs": [
    {
     "data": {
      "text/html": [
       "<div>\n",
       "<style scoped>\n",
       "    .dataframe tbody tr th:only-of-type {\n",
       "        vertical-align: middle;\n",
       "    }\n",
       "\n",
       "    .dataframe tbody tr th {\n",
       "        vertical-align: top;\n",
       "    }\n",
       "\n",
       "    .dataframe thead th {\n",
       "        text-align: right;\n",
       "    }\n",
       "</style>\n",
       "<table border=\"1\" class=\"dataframe\">\n",
       "  <thead>\n",
       "    <tr style=\"text-align: right;\">\n",
       "      <th></th>\n",
       "      <th>name</th>\n",
       "    </tr>\n",
       "  </thead>\n",
       "  <tbody>\n",
       "    <tr>\n",
       "      <td>0</td>\n",
       "      <td>绿短袖</td>\n",
       "    </tr>\n",
       "    <tr>\n",
       "      <td>1</td>\n",
       "      <td>牛奶</td>\n",
       "    </tr>\n",
       "    <tr>\n",
       "      <td>2</td>\n",
       "      <td>T恤</td>\n",
       "    </tr>\n",
       "    <tr>\n",
       "      <td>3</td>\n",
       "      <td>上衣</td>\n",
       "    </tr>\n",
       "    <tr>\n",
       "      <td>4</td>\n",
       "      <td>游戏</td>\n",
       "    </tr>\n",
       "    <tr>\n",
       "      <td>5</td>\n",
       "      <td>旅社</td>\n",
       "    </tr>\n",
       "    <tr>\n",
       "      <td>6</td>\n",
       "      <td>裤子</td>\n",
       "    </tr>\n",
       "    <tr>\n",
       "      <td>7</td>\n",
       "      <td>娱乐</td>\n",
       "    </tr>\n",
       "    <tr>\n",
       "      <td>8</td>\n",
       "      <td>住</td>\n",
       "    </tr>\n",
       "    <tr>\n",
       "      <td>9</td>\n",
       "      <td>超市</td>\n",
       "    </tr>\n",
       "    <tr>\n",
       "      <td>10</td>\n",
       "      <td>购物</td>\n",
       "    </tr>\n",
       "    <tr>\n",
       "      <td>11</td>\n",
       "      <td>衣服</td>\n",
       "    </tr>\n",
       "    <tr>\n",
       "      <td>12</td>\n",
       "      <td>电影</td>\n",
       "    </tr>\n",
       "    <tr>\n",
       "      <td>13</td>\n",
       "      <td>商场</td>\n",
       "    </tr>\n",
       "    <tr>\n",
       "      <td>14</td>\n",
       "      <td>短袖</td>\n",
       "    </tr>\n",
       "    <tr>\n",
       "      <td>15</td>\n",
       "      <td>鸡蛋</td>\n",
       "    </tr>\n",
       "    <tr>\n",
       "      <td>16</td>\n",
       "      <td>黄短袖</td>\n",
       "    </tr>\n",
       "    <tr>\n",
       "      <td>17</td>\n",
       "      <td>宾馆</td>\n",
       "    </tr>\n",
       "    <tr>\n",
       "      <td>18</td>\n",
       "      <td>饼干</td>\n",
       "    </tr>\n",
       "  </tbody>\n",
       "</table>\n",
       "</div>"
      ],
      "text/plain": [
       "   name\n",
       "0   绿短袖\n",
       "1    牛奶\n",
       "2    T恤\n",
       "3    上衣\n",
       "4    游戏\n",
       "5    旅社\n",
       "6    裤子\n",
       "7    娱乐\n",
       "8     住\n",
       "9    超市\n",
       "10   购物\n",
       "11   衣服\n",
       "12   电影\n",
       "13   商场\n",
       "14   短袖\n",
       "15   鸡蛋\n",
       "16  黄短袖\n",
       "17   宾馆\n",
       "18   饼干"
      ]
     },
     "execution_count": 42,
     "metadata": {},
     "output_type": "execute_result"
    }
   ],
   "source": [
    "#创建类目表格\n",
    "\n",
    "pcat = pd.DataFrame({'name':cat})\n",
    "pcat"
   ]
  },
  {
   "cell_type": "code",
   "execution_count": 43,
   "metadata": {},
   "outputs": [
    {
     "data": {
      "text/plain": [
       "'[{\"name\":\"绿短袖\"},{\"name\":\"牛奶\"},{\"name\":\"T恤\"},{\"name\":\"上衣\"},{\"name\":\"游戏\"},{\"name\":\"旅社\"},{\"name\":\"裤子\"},{\"name\":\"娱乐\"},{\"name\":\"住\"},{\"name\":\"超市\"},{\"name\":\"购物\"},{\"name\":\"衣服\"},{\"name\":\"电影\"},{\"name\":\"商场\"},{\"name\":\"短袖\"},{\"name\":\"鸡蛋\"},{\"name\":\"黄短袖\"},{\"name\":\"宾馆\"},{\"name\":\"饼干\"}]'"
      ]
     },
     "execution_count": 43,
     "metadata": {},
     "output_type": "execute_result"
    }
   ],
   "source": [
    "pcat.to_json(orient=\"records\",force_ascii=False)"
   ]
  },
  {
   "cell_type": "code",
   "execution_count": 46,
   "metadata": {},
   "outputs": [
    {
     "name": "stdout",
     "output_type": "stream",
     "text": [
      "[{\"name\":\"绿短袖\"},{\"name\":\"牛奶\"},{\"name\":\"T恤\"},{\"name\":\"上衣\"},{\"name\":\"游戏\"},{\"name\":\"旅社\"},{\"name\":\"裤子\"},{\"name\":\"娱乐\"},{\"name\":\"住\"},{\"name\":\"超市\"},{\"name\":\"购物\"},{\"name\":\"衣服\"},{\"name\":\"电影\"},{\"name\":\"商场\"},{\"name\":\"短袖\"},{\"name\":\"鸡蛋\"},{\"name\":\"黄短袖\"},{\"name\":\"宾馆\"},{\"name\":\"饼干\"}]\n"
     ]
    }
   ],
   "source": [
    "nodes = pcat.to_json(orient=\"records\",force_ascii=False)\n",
    "\n",
    "print(nodes)"
   ]
  },
  {
   "cell_type": "code",
   "execution_count": 52,
   "metadata": {},
   "outputs": [
    {
     "data": {
      "text/html": [
       "\n",
       "<script>\n",
       "    require.config({\n",
       "        paths: {\n",
       "            'echarts':'https://assets.pyecharts.org/assets/echarts.min'\n",
       "        }\n",
       "    });\n",
       "</script>\n",
       "\n",
       "        <div id=\"6b38ad958fc74ad2b70ff462e08e4afb\" style=\"width:900px; height:500px;\"></div>\n",
       "\n",
       "<script>\n",
       "        require(['echarts'], function(echarts) {\n",
       "                var chart_6b38ad958fc74ad2b70ff462e08e4afb = echarts.init(\n",
       "                    document.getElementById('6b38ad958fc74ad2b70ff462e08e4afb'), 'white', {renderer: 'canvas'});\n",
       "                var option_6b38ad958fc74ad2b70ff462e08e4afb = {\n",
       "    \"animation\": true,\n",
       "    \"animationThreshold\": 2000,\n",
       "    \"animationDuration\": 1000,\n",
       "    \"animationEasing\": \"cubicOut\",\n",
       "    \"animationDelay\": 0,\n",
       "    \"animationDurationUpdate\": 300,\n",
       "    \"animationEasingUpdate\": \"cubicOut\",\n",
       "    \"animationDelayUpdate\": 0,\n",
       "    \"color\": [\n",
       "        \"#c23531\",\n",
       "        \"#2f4554\",\n",
       "        \"#61a0a8\",\n",
       "        \"#d48265\",\n",
       "        \"#749f83\",\n",
       "        \"#ca8622\",\n",
       "        \"#bda29a\",\n",
       "        \"#6e7074\",\n",
       "        \"#546570\",\n",
       "        \"#c4ccd3\",\n",
       "        \"#f05b72\",\n",
       "        \"#ef5b9c\",\n",
       "        \"#f47920\",\n",
       "        \"#905a3d\",\n",
       "        \"#fab27b\",\n",
       "        \"#2a5caa\",\n",
       "        \"#444693\",\n",
       "        \"#726930\",\n",
       "        \"#b2d235\",\n",
       "        \"#6d8346\",\n",
       "        \"#ac6767\",\n",
       "        \"#1d953f\",\n",
       "        \"#6950a1\",\n",
       "        \"#918597\"\n",
       "    ],\n",
       "    \"series\": [\n",
       "        {\n",
       "            \"type\": \"sankey\",\n",
       "            \"name\": \"sankey\",\n",
       "            \"data\": \"[{\\\"name\\\":\\\"\\u7eff\\u77ed\\u8896\\\"},{\\\"name\\\":\\\"\\u725b\\u5976\\\"},{\\\"name\\\":\\\"T\\u6064\\\"},{\\\"name\\\":\\\"\\u4e0a\\u8863\\\"},{\\\"name\\\":\\\"\\u6e38\\u620f\\\"},{\\\"name\\\":\\\"\\u65c5\\u793e\\\"},{\\\"name\\\":\\\"\\u88e4\\u5b50\\\"},{\\\"name\\\":\\\"\\u5a31\\u4e50\\\"},{\\\"name\\\":\\\"\\u4f4f\\\"},{\\\"name\\\":\\\"\\u8d85\\u5e02\\\"},{\\\"name\\\":\\\"\\u8d2d\\u7269\\\"},{\\\"name\\\":\\\"\\u8863\\u670d\\\"},{\\\"name\\\":\\\"\\u7535\\u5f71\\\"},{\\\"name\\\":\\\"\\u5546\\u573a\\\"},{\\\"name\\\":\\\"\\u77ed\\u8896\\\"},{\\\"name\\\":\\\"\\u9e21\\u86cb\\\"},{\\\"name\\\":\\\"\\u9ec4\\u77ed\\u8896\\\"},{\\\"name\\\":\\\"\\u5bbe\\u9986\\\"},{\\\"name\\\":\\\"\\u997c\\u5e72\\\"}]\",\n",
       "            \"links\": \"[{\\\"source\\\":\\\"\\u8863\\u670d\\\",\\\"target\\\":\\\"\\u4e0a\\u8863\\\",\\\"value\\\":20},{\\\"source\\\":\\\"\\u8863\\u670d\\\",\\\"target\\\":\\\"\\u88e4\\u5b50\\\",\\\"value\\\":10},{\\\"source\\\":\\\"\\u4f4f\\\",\\\"target\\\":\\\"\\u65c5\\u793e\\\",\\\"value\\\":20},{\\\"source\\\":\\\"\\u4f4f\\\",\\\"target\\\":\\\"\\u5bbe\\u9986\\\",\\\"value\\\":20},{\\\"source\\\":\\\"\\u8d2d\\u7269\\\",\\\"target\\\":\\\"\\u8d85\\u5e02\\\",\\\"value\\\":20},{\\\"source\\\":\\\"\\u8d2d\\u7269\\\",\\\"target\\\":\\\"\\u5546\\u573a\\\",\\\"value\\\":20},{\\\"source\\\":\\\"\\u5a31\\u4e50\\\",\\\"target\\\":\\\"\\u7535\\u5f71\\\",\\\"value\\\":20},{\\\"source\\\":\\\"\\u5a31\\u4e50\\\",\\\"target\\\":\\\"\\u6e38\\u620f\\\",\\\"value\\\":20},{\\\"source\\\":\\\"\\u4e0a\\u8863\\\",\\\"target\\\":\\\"\\u77ed\\u8896\\\",\\\"value\\\":10},{\\\"source\\\":\\\"\\u4e0a\\u8863\\\",\\\"target\\\":\\\"T\\u6064\\\",\\\"value\\\":10},{\\\"source\\\":\\\"\\u77ed\\u8896\\\",\\\"target\\\":\\\"\\u9ec4\\u77ed\\u8896\\\",\\\"value\\\":5},{\\\"source\\\":\\\"\\u77ed\\u8896\\\",\\\"target\\\":\\\"\\u7eff\\u77ed\\u8896\\\",\\\"value\\\":5},{\\\"source\\\":\\\"\\u8d85\\u5e02\\\",\\\"target\\\":\\\"\\u9e21\\u86cb\\\",\\\"value\\\":10},{\\\"source\\\":\\\"\\u8d85\\u5e02\\\",\\\"target\\\":\\\"\\u725b\\u5976\\\",\\\"value\\\":5},{\\\"source\\\":\\\"\\u8d85\\u5e02\\\",\\\"target\\\":\\\"\\u997c\\u5e72\\\",\\\"value\\\":5}]\",\n",
       "            \"nodeWidth\": 20,\n",
       "            \"nodeGap\": 8,\n",
       "            \"label\": {\n",
       "                \"show\": true,\n",
       "                \"position\": \"right\",\n",
       "                \"margin\": 8\n",
       "            },\n",
       "            \"lineStyle\": {\n",
       "                \"width\": 1,\n",
       "                \"opacity\": 0.2,\n",
       "                \"curveness\": 0.5,\n",
       "                \"type\": \"solid\",\n",
       "                \"color\": \"source\"\n",
       "            }\n",
       "        }\n",
       "    ],\n",
       "    \"legend\": [\n",
       "        {\n",
       "            \"data\": [\n",
       "                \"sankey\"\n",
       "            ],\n",
       "            \"selected\": {\n",
       "                \"sankey\": true\n",
       "            },\n",
       "            \"show\": true,\n",
       "            \"padding\": 5,\n",
       "            \"itemGap\": 10,\n",
       "            \"itemWidth\": 25,\n",
       "            \"itemHeight\": 14\n",
       "        }\n",
       "    ],\n",
       "    \"tooltip\": {\n",
       "        \"show\": true,\n",
       "        \"trigger\": \"item\",\n",
       "        \"triggerOn\": \"mousemove|click\",\n",
       "        \"axisPointer\": {\n",
       "            \"type\": \"line\"\n",
       "        },\n",
       "        \"textStyle\": {\n",
       "            \"fontSize\": 14\n",
       "        },\n",
       "        \"borderWidth\": 0\n",
       "    },\n",
       "    \"title\": [\n",
       "        {\n",
       "            \"text\": \"Sankey-\\u57fa\\u672c\\u793a\\u4f8b\"\n",
       "        }\n",
       "    ]\n",
       "};\n",
       "                chart_6b38ad958fc74ad2b70ff462e08e4afb.setOption(option_6b38ad958fc74ad2b70ff462e08e4afb);\n",
       "        });\n",
       "    </script>\n"
      ],
      "text/plain": [
       "<pyecharts.render.display.HTML at 0x14943ade308>"
      ]
     },
     "execution_count": 52,
     "metadata": {},
     "output_type": "execute_result"
    }
   ],
   "source": [
    "# 绘制桑吉图\n",
    "\n",
    "c = (\n",
    "        Sankey()\n",
    "        .add(\n",
    "         \"sankey\",\n",
    "            nodes,\n",
    "            links,\n",
    "            linestyle_opt=opts.LineStyleOpts(opacity=0.2, curve=0.5, color=\"source\"),\n",
    "            label_opts=opts.LabelOpts(position=\"right\"),\n",
    "        )\n",
    "        .set_global_opts(title_opts=opts.TitleOpts(title=\"Sankey-基本示例\"))\n",
    "    )\n",
    "c.render_notebook()"
   ]
  },
  {
   "cell_type": "code",
   "execution_count": 53,
   "metadata": {},
   "outputs": [],
   "source": [
    "link= [\n",
    "        {\"source\": \"category1\", \"target\": \"category2\", \"value\": 10},\n",
    "        {\"source\": \"category2\", \"target\": \"category3\", \"value\": 15},\n",
    "        {\"source\": \"category3\", \"target\": \"category4\", \"value\": 20},\n",
    "        {\"source\": \"category5\", \"target\": \"category6\", \"value\": 25},\n",
    "    ]"
   ]
  },
  {
   "cell_type": "code",
   "execution_count": 54,
   "metadata": {},
   "outputs": [
    {
     "name": "stdout",
     "output_type": "stream",
     "text": [
      "[{'source': 'category1', 'target': 'category2', 'value': 10}, {'source': 'category2', 'target': 'category3', 'value': 15}, {'source': 'category3', 'target': 'category4', 'value': 20}, {'source': 'category5', 'target': 'category6', 'value': 25}]\n"
     ]
    }
   ],
   "source": [
    "print(link)"
   ]
  },
  {
   "cell_type": "code",
   "execution_count": null,
   "metadata": {},
   "outputs": [],
   "source": []
  }
 ],
 "metadata": {
  "kernelspec": {
   "display_name": "Python 3",
   "language": "python",
   "name": "python3"
  },
  "language_info": {
   "codemirror_mode": {
    "name": "ipython",
    "version": 3
   },
   "file_extension": ".py",
   "mimetype": "text/x-python",
   "name": "python",
   "nbconvert_exporter": "python",
   "pygments_lexer": "ipython3",
   "version": "3.7.4"
  }
 },
 "nbformat": 4,
 "nbformat_minor": 2
}
